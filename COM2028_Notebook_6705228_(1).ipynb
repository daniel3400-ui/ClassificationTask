{
  "nbformat": 4,
  "nbformat_minor": 0,
  "metadata": {
    "colab": {
      "provenance": [],
      "machine_shape": "hm",
      "gpuType": "V100",
      "include_colab_link": true
    },
    "kernelspec": {
      "name": "python3",
      "display_name": "Python 3"
    },
    "language_info": {
      "name": "python"
    },
    "accelerator": "GPU",
    "gpuClass": "standard"
  },
  "cells": [
    {
      "cell_type": "markdown",
      "metadata": {
        "id": "view-in-github",
        "colab_type": "text"
      },
      "source": [
        "<a href=\"https://colab.research.google.com/github/daniel3400-ui/ClassificationTask/blob/main/COM2028_Notebook_6705228_(1).ipynb\" target=\"_parent\"><img src=\"https://colab.research.google.com/assets/colab-badge.svg\" alt=\"Open In Colab\"/></a>"
      ]
    },
    {
      "cell_type": "markdown",
      "source": [
        "AI Coursework File Link: https://drive.google.com/drive/folders/1VyVwHATj4-cyzxp02USj4lckgThC7_Ex?usp=sharing"
      ],
      "metadata": {
        "id": "IoJhS1OwC3oY"
      }
    },
    {
      "cell_type": "code",
      "execution_count": null,
      "metadata": {
        "id": "KVesiH3jw9C9"
      },
      "outputs": [],
      "source": [
        "import tensorflow as tf\n",
        "import numpy as np\n",
        "from numpy.random import seed\n",
        "\n",
        "seed(123)\n",
        "tf.keras.utils.set_random_seed(123)\n"
      ]
    },
    {
      "cell_type": "code",
      "source": [
        "#Loads in google drive files\n",
        "\n",
        "from google.colab import drive\n",
        "\n",
        "drive.mount('/content/drive')"
      ],
      "metadata": {
        "colab": {
          "base_uri": "https://localhost:8080/"
        },
        "id": "2O488jV76syL",
        "outputId": "6c41e739-d795-4c5c-e99a-ad253995b6cf"
      },
      "execution_count": null,
      "outputs": [
        {
          "output_type": "stream",
          "name": "stdout",
          "text": [
            "Mounted at /content/drive\n"
          ]
        }
      ]
    },
    {
      "cell_type": "code",
      "source": [
        "#Creates the ground truth labels for the images\n",
        "\n",
        "import os\n",
        "\n",
        "trainTxt = '/content/drive/MyDrive/AI Coursework/COM2028_2023/train.txt'\n",
        "directory = '/content/drive/MyDrive/AI Coursework/COM2028_2023'\n",
        "\n",
        "groundTruthLabels = []\n",
        "\n",
        "with open(trainTxt, 'r') as file:\n",
        "  for line in file:\n",
        "    temp = line.strip().split(\" \")\n",
        "\n",
        "    image = temp[0]\n",
        "    label = int(temp[1])\n",
        "\n",
        "    groundTruthLabels.append(label)\n"
      ],
      "metadata": {
        "id": "9eanVgCh5GHg"
      },
      "execution_count": null,
      "outputs": []
    },
    {
      "cell_type": "code",
      "source": [
        "#Loads data into notebook.\n",
        "\n",
        "trainDirectory = '/content/drive/MyDrive/AI Coursework/COM2028_2023/train'\n",
        "testDirectory = '/content/drive/MyDrive/AI Coursework/COM2028_2023/test'\n",
        "\n",
        "trainDataset, validDataset = tf.keras.utils.image_dataset_from_directory(\n",
        "    trainDirectory,\n",
        "    label_mode = \"int\",\n",
        "    validation_split=0.2,\n",
        "    seed=123,\n",
        "    labels = groundTruthLabels,\n",
        "    subset=\"both\",\n",
        "    image_size=(28,28),\n",
        "    batch_size=32)\n",
        "\n",
        "testDataset = tf.keras.utils.image_dataset_from_directory(\n",
        "    testDirectory,\n",
        "    labels=None,\n",
        "    shuffle = False,\n",
        "    image_size=(28,28),\n",
        "    batch_size=1)\n",
        "\n",
        "trainDataset = trainDataset.map(lambda x,y: (x/255, y))\n",
        "validDataset = validDataset.map(lambda x,y: (x/255, y))\n",
        "testDataset = testDataset.map(lambda x: (x/255))"
      ],
      "metadata": {
        "colab": {
          "base_uri": "https://localhost:8080/"
        },
        "id": "BrWYaxb5HpH8",
        "outputId": "bca334ea-f7ff-4f69-9471-97503fdd59ec"
      },
      "execution_count": null,
      "outputs": [
        {
          "output_type": "stream",
          "name": "stdout",
          "text": [
            "Found 10000 files belonging to 8 classes.\n",
            "Using 8000 files for training.\n",
            "Using 2000 files for validation.\n",
            "Found 5000 files belonging to 1 classes.\n"
          ]
        }
      ]
    },
    {
      "cell_type": "code",
      "source": [
        "#Creates the model\n",
        "\n",
        "from keras.models import Sequential\n",
        "from keras.layers import Dense, Conv2D, MaxPool2D, Flatten, Dropout, Rescaling\n",
        "\n",
        "model = Sequential([\n",
        "\n",
        "  Conv2D(64, kernel_size=(3,3), activation ='relu', input_shape=(28,28,3)),\n",
        "  MaxPool2D((2,2)),\n",
        "\n",
        "  Conv2D(32, kernel_size=(3,3), activation ='relu'),\n",
        "  MaxPool2D((2,2)),\n",
        "\n",
        "  Dropout(0.3),\n",
        "  Flatten(),\n",
        "  Dense(128, activation='relu'),\n",
        "  Dropout(0.3),\n",
        "  Dense(8, activation='softmax'),\n",
        "\n",
        "])\n",
        "\n",
        "model.compile(optimizer='adam', loss='sparse_categorical_crossentropy', metrics=['accuracy'])\n",
        "model.build(input_shape=(32,28,28,3))"
      ],
      "metadata": {
        "id": "IoYUmWRv_Eet"
      },
      "execution_count": null,
      "outputs": []
    },
    {
      "cell_type": "code",
      "source": [
        "model.summary()"
      ],
      "metadata": {
        "colab": {
          "base_uri": "https://localhost:8080/"
        },
        "id": "YDEsyEv5_Jyb",
        "outputId": "d9a29d8f-c457-43b0-92a2-dbf337f21651"
      },
      "execution_count": null,
      "outputs": [
        {
          "output_type": "stream",
          "name": "stdout",
          "text": [
            "Model: \"sequential\"\n",
            "_________________________________________________________________\n",
            " Layer (type)                Output Shape              Param #   \n",
            "=================================================================\n",
            " conv2d (Conv2D)             (None, 26, 26, 64)        1792      \n",
            "                                                                 \n",
            " max_pooling2d (MaxPooling2D  (None, 13, 13, 64)       0         \n",
            " )                                                               \n",
            "                                                                 \n",
            " conv2d_1 (Conv2D)           (None, 11, 11, 32)        18464     \n",
            "                                                                 \n",
            " max_pooling2d_1 (MaxPooling  (None, 5, 5, 32)         0         \n",
            " 2D)                                                             \n",
            "                                                                 \n",
            " dropout (Dropout)           (None, 5, 5, 32)          0         \n",
            "                                                                 \n",
            " flatten (Flatten)           (None, 800)               0         \n",
            "                                                                 \n",
            " dense (Dense)               (None, 128)               102528    \n",
            "                                                                 \n",
            " dropout_1 (Dropout)         (None, 128)               0         \n",
            "                                                                 \n",
            " dense_1 (Dense)             (None, 8)                 1032      \n",
            "                                                                 \n",
            "=================================================================\n",
            "Total params: 123,816\n",
            "Trainable params: 123,816\n",
            "Non-trainable params: 0\n",
            "_________________________________________________________________\n"
          ]
        }
      ]
    },
    {
      "cell_type": "code",
      "source": [
        "#Runs model\n",
        "hist = model.fit(trainDataset, epochs=90, validation_data=validDataset)"
      ],
      "metadata": {
        "id": "y9Fwx-HP_WvW",
        "colab": {
          "base_uri": "https://localhost:8080/"
        },
        "outputId": "9ddd1f54-9040-46f3-96b7-6d315829220f"
      },
      "execution_count": null,
      "outputs": [
        {
          "output_type": "stream",
          "name": "stdout",
          "text": [
            "Epoch 1/90\n",
            "250/250 [==============================] - 129s 27ms/step - loss: 1.2471 - accuracy: 0.5321 - val_loss: 0.8676 - val_accuracy: 0.6760\n",
            "Epoch 2/90\n",
            "250/250 [==============================] - 7s 26ms/step - loss: 0.7826 - accuracy: 0.7132 - val_loss: 0.6208 - val_accuracy: 0.7635\n",
            "Epoch 3/90\n",
            "250/250 [==============================] - 7s 26ms/step - loss: 0.6668 - accuracy: 0.7504 - val_loss: 0.5761 - val_accuracy: 0.7765\n",
            "Epoch 4/90\n",
            "250/250 [==============================] - 6s 24ms/step - loss: 0.6011 - accuracy: 0.7805 - val_loss: 0.5394 - val_accuracy: 0.8060\n",
            "Epoch 5/90\n",
            "250/250 [==============================] - 7s 26ms/step - loss: 0.5613 - accuracy: 0.7977 - val_loss: 0.4651 - val_accuracy: 0.8330\n",
            "Epoch 6/90\n",
            "250/250 [==============================] - 6s 24ms/step - loss: 0.5235 - accuracy: 0.8060 - val_loss: 0.4450 - val_accuracy: 0.8360\n",
            "Epoch 7/90\n",
            "250/250 [==============================] - 7s 26ms/step - loss: 0.4903 - accuracy: 0.8174 - val_loss: 0.5054 - val_accuracy: 0.8100\n",
            "Epoch 8/90\n",
            "250/250 [==============================] - 6s 24ms/step - loss: 0.4749 - accuracy: 0.8284 - val_loss: 0.4183 - val_accuracy: 0.8460\n",
            "Epoch 9/90\n",
            "250/250 [==============================] - 6s 25ms/step - loss: 0.4713 - accuracy: 0.8317 - val_loss: 0.4503 - val_accuracy: 0.8385\n",
            "Epoch 10/90\n",
            "250/250 [==============================] - 6s 25ms/step - loss: 0.4408 - accuracy: 0.8415 - val_loss: 0.4179 - val_accuracy: 0.8520\n",
            "Epoch 11/90\n",
            "250/250 [==============================] - 6s 25ms/step - loss: 0.4281 - accuracy: 0.8455 - val_loss: 0.3801 - val_accuracy: 0.8630\n",
            "Epoch 12/90\n",
            "250/250 [==============================] - 6s 24ms/step - loss: 0.4075 - accuracy: 0.8499 - val_loss: 0.3670 - val_accuracy: 0.8695\n",
            "Epoch 13/90\n",
            "250/250 [==============================] - 7s 25ms/step - loss: 0.4011 - accuracy: 0.8530 - val_loss: 0.3815 - val_accuracy: 0.8625\n",
            "Epoch 14/90\n",
            "250/250 [==============================] - 6s 24ms/step - loss: 0.3798 - accuracy: 0.8600 - val_loss: 0.3608 - val_accuracy: 0.8705\n",
            "Epoch 15/90\n",
            "250/250 [==============================] - 7s 26ms/step - loss: 0.3629 - accuracy: 0.8692 - val_loss: 0.3526 - val_accuracy: 0.8760\n",
            "Epoch 16/90\n",
            "250/250 [==============================] - 6s 24ms/step - loss: 0.3665 - accuracy: 0.8644 - val_loss: 0.3513 - val_accuracy: 0.8700\n",
            "Epoch 17/90\n",
            "250/250 [==============================] - 7s 26ms/step - loss: 0.3654 - accuracy: 0.8676 - val_loss: 0.3350 - val_accuracy: 0.8750\n",
            "Epoch 18/90\n",
            "250/250 [==============================] - 6s 24ms/step - loss: 0.3406 - accuracy: 0.8748 - val_loss: 0.3325 - val_accuracy: 0.8760\n",
            "Epoch 19/90\n",
            "250/250 [==============================] - 7s 26ms/step - loss: 0.3347 - accuracy: 0.8794 - val_loss: 0.3423 - val_accuracy: 0.8730\n",
            "Epoch 20/90\n",
            "250/250 [==============================] - 6s 24ms/step - loss: 0.3140 - accuracy: 0.8859 - val_loss: 0.3432 - val_accuracy: 0.8735\n",
            "Epoch 21/90\n",
            "250/250 [==============================] - 7s 26ms/step - loss: 0.3222 - accuracy: 0.8839 - val_loss: 0.3214 - val_accuracy: 0.8825\n",
            "Epoch 22/90\n",
            "250/250 [==============================] - 6s 24ms/step - loss: 0.3034 - accuracy: 0.8876 - val_loss: 0.3429 - val_accuracy: 0.8755\n",
            "Epoch 23/90\n",
            "250/250 [==============================] - 7s 26ms/step - loss: 0.2887 - accuracy: 0.8945 - val_loss: 0.3033 - val_accuracy: 0.8845\n",
            "Epoch 24/90\n",
            "250/250 [==============================] - 6s 24ms/step - loss: 0.2930 - accuracy: 0.8915 - val_loss: 0.3169 - val_accuracy: 0.8860\n",
            "Epoch 25/90\n",
            "250/250 [==============================] - 7s 26ms/step - loss: 0.2850 - accuracy: 0.8972 - val_loss: 0.3145 - val_accuracy: 0.8865\n",
            "Epoch 26/90\n",
            "250/250 [==============================] - 6s 24ms/step - loss: 0.2821 - accuracy: 0.8985 - val_loss: 0.3020 - val_accuracy: 0.8965\n",
            "Epoch 27/90\n",
            "250/250 [==============================] - 7s 26ms/step - loss: 0.2760 - accuracy: 0.8978 - val_loss: 0.2843 - val_accuracy: 0.8980\n",
            "Epoch 28/90\n",
            "250/250 [==============================] - 6s 24ms/step - loss: 0.2641 - accuracy: 0.9043 - val_loss: 0.3036 - val_accuracy: 0.8910\n",
            "Epoch 29/90\n",
            "250/250 [==============================] - 6s 24ms/step - loss: 0.2692 - accuracy: 0.8988 - val_loss: 0.2964 - val_accuracy: 0.8945\n",
            "Epoch 30/90\n",
            "250/250 [==============================] - 6s 24ms/step - loss: 0.2489 - accuracy: 0.9095 - val_loss: 0.2995 - val_accuracy: 0.8925\n",
            "Epoch 31/90\n",
            "250/250 [==============================] - 6s 25ms/step - loss: 0.2515 - accuracy: 0.9065 - val_loss: 0.2853 - val_accuracy: 0.8990\n",
            "Epoch 32/90\n",
            "250/250 [==============================] - 6s 25ms/step - loss: 0.2508 - accuracy: 0.9080 - val_loss: 0.2877 - val_accuracy: 0.9000\n",
            "Epoch 33/90\n",
            "250/250 [==============================] - 6s 25ms/step - loss: 0.2334 - accuracy: 0.9153 - val_loss: 0.2755 - val_accuracy: 0.9020\n",
            "Epoch 34/90\n",
            "250/250 [==============================] - 6s 25ms/step - loss: 0.2329 - accuracy: 0.9109 - val_loss: 0.2924 - val_accuracy: 0.8970\n",
            "Epoch 35/90\n",
            "250/250 [==============================] - 6s 24ms/step - loss: 0.2305 - accuracy: 0.9164 - val_loss: 0.2721 - val_accuracy: 0.9060\n",
            "Epoch 36/90\n",
            "250/250 [==============================] - 6s 25ms/step - loss: 0.2395 - accuracy: 0.9111 - val_loss: 0.2742 - val_accuracy: 0.9055\n",
            "Epoch 37/90\n",
            "250/250 [==============================] - 7s 26ms/step - loss: 0.2102 - accuracy: 0.9239 - val_loss: 0.2817 - val_accuracy: 0.9010\n",
            "Epoch 38/90\n",
            "250/250 [==============================] - 6s 24ms/step - loss: 0.2190 - accuracy: 0.9201 - val_loss: 0.2911 - val_accuracy: 0.8975\n",
            "Epoch 39/90\n",
            "250/250 [==============================] - 7s 26ms/step - loss: 0.2214 - accuracy: 0.9179 - val_loss: 0.3046 - val_accuracy: 0.8990\n",
            "Epoch 40/90\n",
            "250/250 [==============================] - 6s 24ms/step - loss: 0.2131 - accuracy: 0.9222 - val_loss: 0.2755 - val_accuracy: 0.9045\n",
            "Epoch 41/90\n",
            "250/250 [==============================] - 7s 26ms/step - loss: 0.2096 - accuracy: 0.9215 - val_loss: 0.2763 - val_accuracy: 0.9015\n",
            "Epoch 42/90\n",
            "250/250 [==============================] - 6s 24ms/step - loss: 0.1937 - accuracy: 0.9293 - val_loss: 0.2904 - val_accuracy: 0.9015\n",
            "Epoch 43/90\n",
            "250/250 [==============================] - 7s 26ms/step - loss: 0.2044 - accuracy: 0.9218 - val_loss: 0.2736 - val_accuracy: 0.9025\n",
            "Epoch 44/90\n",
            "250/250 [==============================] - 6s 24ms/step - loss: 0.2034 - accuracy: 0.9220 - val_loss: 0.2681 - val_accuracy: 0.9075\n",
            "Epoch 45/90\n",
            "250/250 [==============================] - 7s 26ms/step - loss: 0.1930 - accuracy: 0.9295 - val_loss: 0.2602 - val_accuracy: 0.9105\n",
            "Epoch 46/90\n",
            "250/250 [==============================] - 6s 24ms/step - loss: 0.1879 - accuracy: 0.9295 - val_loss: 0.2650 - val_accuracy: 0.9040\n",
            "Epoch 47/90\n",
            "250/250 [==============================] - 7s 26ms/step - loss: 0.1878 - accuracy: 0.9298 - val_loss: 0.2673 - val_accuracy: 0.9070\n",
            "Epoch 48/90\n",
            "250/250 [==============================] - 6s 24ms/step - loss: 0.1795 - accuracy: 0.9339 - val_loss: 0.2905 - val_accuracy: 0.9010\n",
            "Epoch 49/90\n",
            "250/250 [==============================] - 6s 24ms/step - loss: 0.1815 - accuracy: 0.9302 - val_loss: 0.2703 - val_accuracy: 0.9085\n",
            "Epoch 50/90\n",
            "250/250 [==============================] - 7s 25ms/step - loss: 0.1762 - accuracy: 0.9349 - val_loss: 0.2883 - val_accuracy: 0.9035\n",
            "Epoch 51/90\n",
            "250/250 [==============================] - 6s 24ms/step - loss: 0.1814 - accuracy: 0.9349 - val_loss: 0.2705 - val_accuracy: 0.8995\n",
            "Epoch 52/90\n",
            "250/250 [==============================] - 7s 26ms/step - loss: 0.1644 - accuracy: 0.9374 - val_loss: 0.2780 - val_accuracy: 0.9025\n",
            "Epoch 53/90\n",
            "250/250 [==============================] - 6s 24ms/step - loss: 0.1628 - accuracy: 0.9390 - val_loss: 0.2637 - val_accuracy: 0.9105\n",
            "Epoch 54/90\n",
            "250/250 [==============================] - 7s 26ms/step - loss: 0.1726 - accuracy: 0.9341 - val_loss: 0.2763 - val_accuracy: 0.9070\n",
            "Epoch 55/90\n",
            "250/250 [==============================] - 6s 24ms/step - loss: 0.1543 - accuracy: 0.9420 - val_loss: 0.2555 - val_accuracy: 0.9120\n",
            "Epoch 56/90\n",
            "250/250 [==============================] - 7s 26ms/step - loss: 0.1528 - accuracy: 0.9398 - val_loss: 0.2454 - val_accuracy: 0.9195\n",
            "Epoch 57/90\n",
            "250/250 [==============================] - 6s 24ms/step - loss: 0.1654 - accuracy: 0.9370 - val_loss: 0.2714 - val_accuracy: 0.9090\n",
            "Epoch 58/90\n",
            "250/250 [==============================] - 6s 24ms/step - loss: 0.1624 - accuracy: 0.9426 - val_loss: 0.2562 - val_accuracy: 0.9160\n",
            "Epoch 59/90\n",
            "250/250 [==============================] - 6s 25ms/step - loss: 0.1405 - accuracy: 0.9474 - val_loss: 0.2749 - val_accuracy: 0.9125\n",
            "Epoch 60/90\n",
            "250/250 [==============================] - 6s 25ms/step - loss: 0.1505 - accuracy: 0.9440 - val_loss: 0.2679 - val_accuracy: 0.9085\n",
            "Epoch 61/90\n",
            "250/250 [==============================] - 8s 30ms/step - loss: 0.1438 - accuracy: 0.9455 - val_loss: 0.2897 - val_accuracy: 0.9075\n",
            "Epoch 62/90\n",
            "250/250 [==============================] - 6s 25ms/step - loss: 0.1501 - accuracy: 0.9426 - val_loss: 0.2480 - val_accuracy: 0.9225\n",
            "Epoch 63/90\n",
            "250/250 [==============================] - 6s 25ms/step - loss: 0.1504 - accuracy: 0.9435 - val_loss: 0.2527 - val_accuracy: 0.9165\n",
            "Epoch 64/90\n",
            "250/250 [==============================] - 7s 26ms/step - loss: 0.1364 - accuracy: 0.9499 - val_loss: 0.2687 - val_accuracy: 0.9120\n",
            "Epoch 65/90\n",
            "250/250 [==============================] - 6s 25ms/step - loss: 0.1403 - accuracy: 0.9477 - val_loss: 0.2856 - val_accuracy: 0.9085\n",
            "Epoch 66/90\n",
            "250/250 [==============================] - 6s 25ms/step - loss: 0.1375 - accuracy: 0.9485 - val_loss: 0.2896 - val_accuracy: 0.9060\n",
            "Epoch 67/90\n",
            "250/250 [==============================] - 6s 24ms/step - loss: 0.1532 - accuracy: 0.9454 - val_loss: 0.2639 - val_accuracy: 0.9150\n",
            "Epoch 68/90\n",
            "250/250 [==============================] - 7s 25ms/step - loss: 0.1250 - accuracy: 0.9549 - val_loss: 0.2631 - val_accuracy: 0.9135\n",
            "Epoch 69/90\n",
            "250/250 [==============================] - 6s 24ms/step - loss: 0.1395 - accuracy: 0.9492 - val_loss: 0.2616 - val_accuracy: 0.9150\n",
            "Epoch 70/90\n",
            "250/250 [==============================] - 6s 25ms/step - loss: 0.1403 - accuracy: 0.9482 - val_loss: 0.2793 - val_accuracy: 0.9090\n",
            "Epoch 71/90\n",
            "250/250 [==============================] - 6s 24ms/step - loss: 0.1255 - accuracy: 0.9551 - val_loss: 0.2696 - val_accuracy: 0.9075\n",
            "Epoch 72/90\n",
            "250/250 [==============================] - 6s 24ms/step - loss: 0.1232 - accuracy: 0.9524 - val_loss: 0.2735 - val_accuracy: 0.9180\n",
            "Epoch 73/90\n",
            "250/250 [==============================] - 7s 26ms/step - loss: 0.1273 - accuracy: 0.9544 - val_loss: 0.3034 - val_accuracy: 0.9070\n",
            "Epoch 74/90\n",
            "250/250 [==============================] - 6s 24ms/step - loss: 0.1241 - accuracy: 0.9540 - val_loss: 0.2892 - val_accuracy: 0.9060\n",
            "Epoch 75/90\n",
            "250/250 [==============================] - 6s 25ms/step - loss: 0.1182 - accuracy: 0.9540 - val_loss: 0.2733 - val_accuracy: 0.9145\n",
            "Epoch 76/90\n",
            "250/250 [==============================] - 6s 24ms/step - loss: 0.1319 - accuracy: 0.9504 - val_loss: 0.2681 - val_accuracy: 0.9130\n",
            "Epoch 77/90\n",
            "250/250 [==============================] - 7s 26ms/step - loss: 0.1261 - accuracy: 0.9550 - val_loss: 0.2867 - val_accuracy: 0.9145\n",
            "Epoch 78/90\n",
            "250/250 [==============================] - 6s 24ms/step - loss: 0.1165 - accuracy: 0.9589 - val_loss: 0.2978 - val_accuracy: 0.9120\n",
            "Epoch 79/90\n",
            "250/250 [==============================] - 7s 26ms/step - loss: 0.1198 - accuracy: 0.9574 - val_loss: 0.2683 - val_accuracy: 0.9115\n",
            "Epoch 80/90\n",
            "250/250 [==============================] - 6s 25ms/step - loss: 0.1160 - accuracy: 0.9591 - val_loss: 0.2753 - val_accuracy: 0.9115\n",
            "Epoch 81/90\n",
            "250/250 [==============================] - 6s 24ms/step - loss: 0.1221 - accuracy: 0.9549 - val_loss: 0.3053 - val_accuracy: 0.9130\n",
            "Epoch 82/90\n",
            "250/250 [==============================] - 6s 25ms/step - loss: 0.1194 - accuracy: 0.9572 - val_loss: 0.2720 - val_accuracy: 0.9130\n",
            "Epoch 83/90\n",
            "250/250 [==============================] - 6s 25ms/step - loss: 0.1108 - accuracy: 0.9592 - val_loss: 0.3547 - val_accuracy: 0.9020\n",
            "Epoch 84/90\n",
            "250/250 [==============================] - 6s 25ms/step - loss: 0.1208 - accuracy: 0.9550 - val_loss: 0.2880 - val_accuracy: 0.9120\n",
            "Epoch 85/90\n",
            "250/250 [==============================] - 6s 24ms/step - loss: 0.1308 - accuracy: 0.9526 - val_loss: 0.2742 - val_accuracy: 0.9200\n",
            "Epoch 86/90\n",
            "250/250 [==============================] - 6s 25ms/step - loss: 0.1023 - accuracy: 0.9631 - val_loss: 0.2713 - val_accuracy: 0.9155\n",
            "Epoch 87/90\n",
            "250/250 [==============================] - 6s 25ms/step - loss: 0.1184 - accuracy: 0.9541 - val_loss: 0.3377 - val_accuracy: 0.9015\n",
            "Epoch 88/90\n",
            "250/250 [==============================] - 7s 26ms/step - loss: 0.1097 - accuracy: 0.9588 - val_loss: 0.3152 - val_accuracy: 0.9105\n",
            "Epoch 89/90\n",
            "250/250 [==============================] - 6s 24ms/step - loss: 0.1166 - accuracy: 0.9563 - val_loss: 0.2859 - val_accuracy: 0.9165\n",
            "Epoch 90/90\n",
            "250/250 [==============================] - 7s 26ms/step - loss: 0.1058 - accuracy: 0.9628 - val_loss: 0.2928 - val_accuracy: 0.9210\n"
          ]
        }
      ]
    },
    {
      "cell_type": "code",
      "source": [
        "model.evaluate(validDataset)"
      ],
      "metadata": {
        "colab": {
          "base_uri": "https://localhost:8080/"
        },
        "id": "coimoVdLXXaO",
        "outputId": "fa37bf0d-b52e-4e5c-93aa-90e0fd61ad20"
      },
      "execution_count": null,
      "outputs": [
        {
          "output_type": "stream",
          "name": "stdout",
          "text": [
            "63/63 [==============================] - 1s 19ms/step - loss: 0.2928 - accuracy: 0.9210\n"
          ]
        },
        {
          "output_type": "execute_result",
          "data": {
            "text/plain": [
              "[0.2927599251270294, 0.9210000038146973]"
            ]
          },
          "metadata": {},
          "execution_count": 12
        }
      ]
    },
    {
      "cell_type": "code",
      "source": [
        "#Creates predictions\n",
        "\n",
        "predictions = model.predict(testDataset)\n",
        "predictedLabels = np.argmax(predictions, axis=1)"
      ],
      "metadata": {
        "id": "htnD7OYuAcE-",
        "colab": {
          "base_uri": "https://localhost:8080/"
        },
        "outputId": "723932d3-b0b3-4bec-c189-cc80e77473cc"
      },
      "execution_count": null,
      "outputs": [
        {
          "output_type": "stream",
          "name": "stdout",
          "text": [
            "5000/5000 [==============================] - 344s 69ms/step\n"
          ]
        }
      ]
    },
    {
      "cell_type": "code",
      "source": [
        "imageFiles = sorted(os.listdir(testDirectory))\n",
        "labelFile = '/content/drive/MyDrive/AI Coursework/COM2028_2023/test.txt'\n",
        "\n",
        "with open(labelFile, \"w\") as file:\n",
        "  for i, images in enumerate(imageFiles):\n",
        "    predictedLabel = predictedLabels[i]\n",
        "    file.write(f\"test/{images} {predictedLabel}\\n\")"
      ],
      "metadata": {
        "id": "qbugBjgdxMdY"
      },
      "execution_count": null,
      "outputs": []
    },
    {
      "cell_type": "code",
      "source": [
        "from matplotlib import pyplot as plt\n",
        "\n",
        "#Accuracy Graph\n",
        "\n",
        "fig = plt.figure()\n",
        "plt.plot(hist.history['accuracy'], color='teal', label='accuracy')\n",
        "plt.plot(hist.history['val_accuracy'], color = 'orange', label='val_accuracy')\n",
        "fig.suptitle('Accuracy', fontsize=20)\n",
        "plt.legend(loc=\"upper left\")\n",
        "plt.show()\n"
      ],
      "metadata": {
        "colab": {
          "base_uri": "https://localhost:8080/",
          "height": 478
        },
        "id": "jtDNOoRaXwnM",
        "outputId": "fe21da23-ded6-4be9-ca9e-f5045443033f"
      },
      "execution_count": null,
      "outputs": [
        {
          "output_type": "display_data",
          "data": {
            "text/plain": [
              "<Figure size 640x480 with 1 Axes>"
            ],
            "image/png": "[encoded data removed]"
          },
          "metadata": {}
        }
      ]
    },
    {
      "cell_type": "code",
      "source": [
        "#Loss Graph\n",
        "fig = plt.figure()\n",
        "plt.plot(hist.history['loss'], color='teal', label='loss')\n",
        "plt.plot(hist.history['val_loss'], color = 'orange', label='val_loss')\n",
        "fig.suptitle('Loss', fontsize=20)\n",
        "plt.legend(loc=\"upper left\")\n",
        "plt.show()"
      ],
      "metadata": {
        "colab": {
          "base_uri": "https://localhost:8080/",
          "height": 478
        },
        "id": "0H-swbwJYZeA",
        "outputId": "663bb4f2-c84c-4c79-f776-9b9188108cc7"
      },
      "execution_count": null,
      "outputs": [
        {
          "output_type": "display_data",
          "data": {
            "text/plain": [
              "<Figure size 640x480 with 1 Axes>"
            ],
            "image/png": "[encoded data removed]"
          },
          "metadata": {}
        }
      ]
    },
    {
      "cell_type": "code",
      "source": [
        "model.save('classification_model.keras') #Saves model"
      ],
      "metadata": {
        "id": "S1SMkMHlUtE3"
      },
      "execution_count": null,
      "outputs": []
    },
    {
      "cell_type": "code",
      "source": [
        "#Load model\n",
        "\n",
        "loadModel = tf.keras.models.load_model('classification_model.keras')\n",
        "loadModel.summary()"
      ],
      "metadata": {
        "colab": {
          "base_uri": "https://localhost:8080/"
        },
        "id": "bBYQKNoreaSG",
        "outputId": "36aea265-2357-4dff-9513-d68df6c2ea00"
      },
      "execution_count": null,
      "outputs": [
        {
          "output_type": "stream",
          "name": "stdout",
          "text": [
            "Model: \"sequential\"\n",
            "_________________________________________________________________\n",
            " Layer (type)                Output Shape              Param #   \n",
            "=================================================================\n",
            " conv2d (Conv2D)             (None, 26, 26, 64)        1792      \n",
            "                                                                 \n",
            " max_pooling2d (MaxPooling2D  (None, 13, 13, 64)       0         \n",
            " )                                                               \n",
            "                                                                 \n",
            " conv2d_1 (Conv2D)           (None, 11, 11, 32)        18464     \n",
            "                                                                 \n",
            " max_pooling2d_1 (MaxPooling  (None, 5, 5, 32)         0         \n",
            " 2D)                                                             \n",
            "                                                                 \n",
            " dropout (Dropout)           (None, 5, 5, 32)          0         \n",
            "                                                                 \n",
            " flatten (Flatten)           (None, 800)               0         \n",
            "                                                                 \n",
            " dense (Dense)               (None, 128)               102528    \n",
            "                                                                 \n",
            " dropout_1 (Dropout)         (None, 128)               0         \n",
            "                                                                 \n",
            " dense_1 (Dense)             (None, 8)                 1032      \n",
            "                                                                 \n",
            "=================================================================\n",
            "Total params: 123,816\n",
            "Trainable params: 123,816\n",
            "Non-trainable params: 0\n",
            "_________________________________________________________________\n"
          ]
        }
      ]
    }
  ]
}